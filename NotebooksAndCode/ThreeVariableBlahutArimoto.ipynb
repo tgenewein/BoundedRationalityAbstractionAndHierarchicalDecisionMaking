{
 "cells": [
  {
   "cell_type": "code",
   "execution_count": 48,
   "metadata": {
    "collapsed": false
   },
   "outputs": [
    {
     "data": {
      "text/plain": [
       "threevarBAiterations (generic function with 1 method)"
      ]
     },
     "execution_count": 48,
     "metadata": {},
     "output_type": "execute_result"
    }
   ],
   "source": [
    "using Distances, DataFrames, Gadfly, Distributions\n",
    "\n",
    "include(\"TaxonomyExample.jl\")\n",
    "include(\"BlahutArimoto.jl\")\n",
    "include(\"InformationTheoryFunctions.jl\")\n",
    "include(\"ConversionFunctions.jl\")\n",
    "include(\"VisualizationFunctions.jl\")\n",
    "include(\"ThreeVariableBlahutArimoto.jl\")"
   ]
  },
  {
   "cell_type": "code",
   "execution_count": 49,
   "metadata": {
    "collapsed": false
   },
   "outputs": [
    {
     "data": {
      "text/plain": [
       "(\n",
       "19x13 Array{Float64,2}:\n",
       " 3.0  0.0  0.0  0.0  0.0  0.0  0.0  0.0  0.0  0.0  0.0  0.0  0.0\n",
       " 0.0  3.0  0.0  0.0  0.0  0.0  0.0  0.0  0.0  0.0  0.0  0.0  0.0\n",
       " 0.0  0.0  3.0  0.0  0.0  0.0  0.0  0.0  0.0  0.0  0.0  0.0  0.0\n",
       " 0.0  0.0  0.0  3.0  0.0  0.0  0.0  0.0  0.0  0.0  0.0  0.0  0.0\n",
       " 0.0  0.0  0.0  0.0  3.0  0.0  0.0  0.0  0.0  0.0  0.0  0.0  0.0\n",
       " 0.0  0.0  0.0  0.0  0.0  3.0  0.0  0.0  0.0  0.0  0.0  0.0  0.0\n",
       " 0.0  0.0  0.0  0.0  0.0  0.0  3.0  0.0  0.0  0.0  0.0  0.0  0.0\n",
       " 0.0  0.0  0.0  0.0  0.0  0.0  0.0  3.0  0.0  0.0  0.0  0.0  0.0\n",
       " 0.0  0.0  0.0  0.0  0.0  0.0  0.0  0.0  3.0  0.0  0.0  0.0  0.0\n",
       " 0.0  0.0  0.0  0.0  0.0  0.0  0.0  0.0  0.0  3.0  0.0  0.0  0.0\n",
       " 0.0  0.0  0.0  0.0  0.0  0.0  0.0  0.0  0.0  0.0  3.0  0.0  0.0\n",
       " 0.0  0.0  0.0  0.0  0.0  0.0  0.0  0.0  0.0  0.0  0.0  3.0  3.0\n",
       " 0.0  0.0  0.0  0.0  0.0  0.0  0.0  0.0  0.0  0.0  0.0  0.0  3.0\n",
       " 2.2  2.2  2.2  0.0  0.0  0.0  0.0  0.0  0.0  0.0  0.0  0.0  0.0\n",
       " 0.0  0.0  0.0  2.2  2.2  2.2  0.0  0.0  0.0  0.0  0.0  0.0  0.0\n",
       " 0.0  0.0  0.0  0.0  0.0  0.0  2.2  2.2  2.2  2.2  0.0  0.0  0.0\n",
       " 0.0  0.0  0.0  0.0  0.0  0.0  0.0  0.0  0.0  2.2  2.2  2.2  2.2\n",
       " 1.6  1.6  1.6  1.6  1.6  1.6  0.0  0.0  0.0  0.0  0.0  0.0  0.0\n",
       " 0.0  0.0  0.0  0.0  0.0  0.0  1.6  1.6  1.6  1.6  1.6  1.6  1.6,\n",
       "\n",
       "[3.0,3.0,3.0,3.0,3.0,3.0,3.0,3.0,3.0,3.0,3.0,3.0,3.0])"
      ]
     },
     "execution_count": 49,
     "metadata": {},
     "output_type": "execute_result"
    }
   ],
   "source": [
    "#set up taxonomy example\n",
    "include(\"TaxonomyExample.jl\")\n",
    "w_vec, w_strings, a_vec, a_strings, p_w, U = setuptaxonomy()\n",
    "\n",
    "\n",
    "#pre-compute utilities, find maxima\n",
    "U_pre, Umax = setuputilityarrays(a_vec,w_vec,U)\n",
    "\n",
    "#visualize utility\n",
    "#plt_utility = visualizeMatrix(U_pre, w_vec, a_vec, w_strings, a_strings, xlabel=\"World state w\",\n",
    "#                              ylabel=\"Action a\", legendlabel=\"U(a,w)\")"
   ]
  },
  {
   "cell_type": "code",
   "execution_count": 56,
   "metadata": {
    "collapsed": false
   },
   "outputs": [
    {
     "name": "stdout",
     "output_type": "stream",
     "text": [
      "1: ∑p(o) = 1.0\n",
      "2: ∑p(a) =  1.0\n"
     ]
    },
    {
     "data": {
      "text/html": [
       "<table class=\"data-frame\"><tr><th></th><th>I_ow</th><th>I_ao</th><th>I_awgo</th><th>H_o</th><th>H_a</th><th>H_ogw</th><th>H_ago</th><th>H_agow</th><th>E_U</th><th>Objective_value</th></tr><tr><th>1</th><td>-3.304634722310619e-17</td><td>1.5129570454871646e-17</td><td>0.8230503015899628</td><td>4.155149016627534</td><td>2.246499179958973</td><td>4.155149016627534</td><td>2.246499179958973</td><td>1.4234488783690102</td><td>1.726004705136832</td><td>0.9029544035468691</td></tr></table>"
      ],
      "text/plain": [
       "1x10 DataFrame\n",
       "| Row | I_ow         | I_ao        | I_awgo  | H_o     | H_a    | H_ogw   |\n",
       "|-----|--------------|-------------|---------|---------|--------|---------|\n",
       "| 1   | -3.30463e-17 | 1.51296e-17 | 0.82305 | 4.15515 | 2.2465 | 4.15515 |\n",
       "\n",
       "| Row | H_ago  | H_agow  | E_U   | Objective_value |\n",
       "|-----|--------|---------|-------|-----------------|\n",
       "| 1   | 2.2465 | 1.42345 | 1.726 | 0.902954        |"
      ]
     },
     "execution_count": 56,
     "metadata": {},
     "output_type": "execute_result"
    }
   ],
   "source": [
    "β1 = 1 #inverse temperature for p(o)→p(o|w)\n",
    "β2 = 1 #inverse temperature for p(a)→p(a|o)\n",
    "β3 = 1 #inverse temperature for p(a)→p(a|o,w)\n",
    "\n",
    "ε = 0.0000001 #convergence critetion for BAiterations\n",
    "maxiter = 10000 #maximum number of BA iterations\n",
    "\n",
    "\n",
    "#cardinality of percept\n",
    "num_obs = length(a_vec)-1 #cardinality of percept is equal to action-space\n",
    "\n",
    "\n",
    "#----- Initialization -----#\n",
    "\n",
    "num_worldstates = length(w_vec)\n",
    "num_acts = length(a_vec)\n",
    "\n",
    "#initialize p(o|w)\n",
    "#p_ogw_init = ones(num_obs, num_worldstates)  #uniform initialization\n",
    "p_ogw_init = rand(num_obs, num_worldstates)  #random initialization\n",
    "for j in 1:num_worldstates    \n",
    "    p_ogw_init[:,j] = p_ogw_init[:,j] / sum(p_ogw_init[:,j])\n",
    "end\n",
    "\n",
    "#initialize p(a|o,w)\n",
    "#p_agow_init = ones(num_acts, num_obs, num_worldstates) #uniform initialization\n",
    "p_agow_init = rand(num_acts, num_obs, num_worldstates) #random initialization\n",
    "for j in 1:num_worldstates\n",
    "    for k in 1:num_obs\n",
    "        p_agow_init[:,k,j] = p_agow_init[:,k,j] / sum(p_agow_init[:,k,j])\n",
    "    end\n",
    "end\n",
    "\n",
    "\n",
    "\n",
    "#This function performs Blahut-Arimoto iterations for the three-variable general case\n",
    "po, pa, pogw, pago, pagow, performance_df = threevarBAiterations(p_ogw_init, p_agow_init, β1, β2, β3, \n",
    "                                            U_pre, p_w, ε, maxiter, compute_performance=true, \n",
    "                                            performance_per_iteration=false, performance_as_dataframe=true)\n",
    "\n",
    "performance_df"
   ]
  },
  {
   "cell_type": "code",
   "execution_count": null,
   "metadata": {
    "collapsed": false
   },
   "outputs": [],
   "source": []
  }
 ],
 "metadata": {
  "kernelspec": {
   "display_name": "Julia 0.3.10",
   "language": "julia",
   "name": "julia-0.3"
  },
  "language_info": {
   "name": "julia",
   "version": "0.3.10"
  }
 },
 "nbformat": 4,
 "nbformat_minor": 0
}
