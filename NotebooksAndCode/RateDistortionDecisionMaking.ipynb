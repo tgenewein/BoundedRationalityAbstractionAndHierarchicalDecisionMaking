{
 "cells": [
  {
   "cell_type": "code",
   "execution_count": null,
   "metadata": {
    "collapsed": false
   },
   "outputs": [],
   "source": [
    "#test call for the library\n",
    "using RateDistortionDecisionMaking\n",
    "\n",
    "\n",
    "card_x = 3 #cardinality x\n",
    "card_ϕ = 2 #cardinality ϕ\n",
    "β = 1 #inverse temperature\n",
    "ε = 0.000001 #convergence critetion for BAiterations\n",
    "maxiter = 5000 #maximum number of BA iterations\n",
    "\n",
    "#set up uniform p(ϕ)\n",
    "pϕ = ones(card_ϕ)/card_ϕ \n",
    "\n",
    "#initialize p(x) uniformly\n",
    "px_init = ones(card_x)/card_x \n",
    "\n",
    "\n",
    "#cosine utility function (returns pre-computed utilities and maximum for each y)\n",
    "function cosineutility(cardinality_x, cardinality_ϕ)\n",
    "    #set up x ∈ (0,π/2)\n",
    "    xvec = linspace(0,pi/2,cardinality_x)\n",
    "    #set up ϕ ∈ (0,π/4)\n",
    "    ϕvec = linspace(0,pi/4,cardinality_ϕ)\n",
    "\n",
    "    #set up the utility function\n",
    "    #utility is cosine, ϕ acts as a phase shift\n",
    "    function U(x,ϕ)\n",
    "        cos(x-ϕ)\n",
    "    end\n",
    "\n",
    "    #pre-compute utilities, find maxima\n",
    "    U_pre, Umax = setuputilityarrays(xvec,ϕvec,U)\n",
    "    \n",
    "    return U_pre, Umax, xvec, ϕvec\n",
    "end\n",
    "\n",
    "\n",
    "#exemplary usage\n",
    "U_pre, Umax, xvec, ϕvec = cosineutility(card_x, card_ϕ)\n",
    "#pxgϕ,px = BAiterations(px_init, β, U_pre, Umax, pϕ, ε, maxiter)\n",
    "\n",
    "#pxgϕ, px, I, Ha, Hago, EU, RDobj = BAiterations(px_init, β, U_pre, Umax, pϕ, ε, maxiter,compute_performance=true, \n",
    "#performance_as_dataframe=false, performance_per_iteration=false)\n",
    "\n",
    "pxgϕ, px, perf = BAiterations(px_init, β, U_pre, pϕ, ε, maxiter,compute_performance=true, \n",
    "performance_as_dataframe=true, performance_per_iteration=false)\n",
    "\n",
    "#U_pre,pxgϕ,px\n",
    "#perf"
   ]
  },
  {
   "cell_type": "code",
   "execution_count": null,
   "metadata": {
    "collapsed": false
   },
   "outputs": [],
   "source": [
    "#convert solution\n",
    "\n",
    "#These are potential candidates for tests - all of these versions should run\n",
    "\n",
    "#transform result into dataframe\n",
    "#px_df, pxgϕ_df = BAresult2DataFrame(px, pxgϕ, xvec, ϕvec, map(string,xvec), map(string,ϕvec))\n",
    "px_df, pxgϕ_df = BAresult2DataFrame(px, pxgϕ, xvec, ϕvec)  \n",
    "#px_df = boltzmannresult2DataFrame(px, xvec)\n",
    "#px_df = BAmarginal2DataFrame(px, xvec, map(string,xvec))\n",
    "#pxgϕ_df = BAconditional2DataFrame(pxgϕ, xvec, ϕvec)  \n",
    "\n",
    "\n",
    "#visualizeBAconditional(pxgϕ_df, xvec, ϕvec)\n",
    "#visualizeBAconditional(pxgϕ_df, xvec, ϕvec,alabel=\"action x\", olabel=\"observation ϕ\", legendlabel=\"p(x|ϕ)\")\n",
    "\n"
   ]
  },
  {
   "cell_type": "code",
   "execution_count": null,
   "metadata": {
    "collapsed": false,
    "scrolled": false
   },
   "outputs": [],
   "source": [
    "#visualizeBAmarginal(px, xvec)\n",
    "\n",
    "#Two-step call explicitly using DataFrames\n",
    "#px_df, pxgϕ_df = BAresult2DataFrame(px, pxgϕ, xvec, ϕvec)\n",
    "visualizeBAsolution(px_df, pxgϕ_df, xvec, ϕvec)\n",
    "; #to suppress output of the returned values\n",
    "\n",
    "\n",
    "#Two-step call with strings provided\n",
    "#px_df, pxgϕ_df = BAresult2DataFrame(px, pxgϕ, xvec, ϕvec, map(string,xvec), map(string,ϕvec))\n",
    "#visualizeBAsolution(px_df, pxgϕ_df, xvec, ϕvec, olabel=\"ϕ\", alabel=\"x\", legendlabel_marginal=\"p(x)\", legendlabel_conditional=\"p(x|ϕ)\")\n",
    "\n",
    "#Simplified call using vector and matrix\n",
    "#visualizeBAsolution(px, pxgϕ, xvec, ϕvec)"
   ]
  },
  {
   "cell_type": "code",
   "execution_count": null,
   "metadata": {
    "collapsed": false,
    "scrolled": false
   },
   "outputs": [],
   "source": [
    "#vector/matrix call with strings provided\n",
    "as = [\"x1\",\"x2\",\"x3\"]\n",
    "os = [\"ϕ1\",\"ϕ2\"]\n",
    "plot_marg, plot_cond = visualizeBAsolution(px, pxgϕ, xvec, ϕvec, as, os,\n",
    "                                           wlabel=\"ϕ\", alabel=\"x\",\n",
    "                                           legendlabel_marginal=\"p(x)\", legendlabel_conditional=\"p(x|ϕ)\");"
   ]
  },
  {
   "cell_type": "code",
   "execution_count": null,
   "metadata": {
    "collapsed": false
   },
   "outputs": [],
   "source": [
    "#example for storing the figure\n",
    "#using Gadfly\n",
    "#draw(SVG(\"Figures/conditional.svg\", 10cm, 10cm), plot_cond)\n",
    "#draw(SVGJS(\"Figures/conditionaljs.svg\", 4inch, 3inch), plot_cond)  #this embeds the JavaScript (for panning zooming, etc) into the SVG"
   ]
  },
  {
   "cell_type": "markdown",
   "metadata": {
    "collapsed": false
   },
   "source": [
    "#Temperature sweep"
   ]
  },
  {
   "cell_type": "code",
   "execution_count": null,
   "metadata": {
    "collapsed": false
   },
   "outputs": [],
   "source": [
    "β_sweep = [0.1:30]\n",
    "nβ = length(β_sweep)\n",
    "\n",
    "I = zeros(nβ)\n",
    "Ha = zeros(nβ)\n",
    "Hago = zeros(nβ)\n",
    "EU = zeros(nβ)\n",
    "RDobj = zeros(nβ)\n",
    "\n",
    "for i=1:nβ    \n",
    "    p_xgϕ, p_x, I[i], Ha[i], Hago[i], EU[i], RDobj[i] = BAiterations(px_init, β_sweep[i], U_pre, pϕ, ε, maxiter,compute_performance=true)  \n",
    "end\n",
    "\n",
    "plt_perf_entropy, plt_perf_util, plt_rateutility = plotperformancemeasures(I, Ha, Hago, EU, RDobj, β_sweep);\n"
   ]
  },
  {
   "cell_type": "markdown",
   "metadata": {},
   "source": [
    "'RU_obj' in the figure legend denotes the value of the rate-utility objective function $E_{p(a,o)}[U(a,o)]-\\frac{1}{\\beta}I(A;O)$.\n",
    "\n",
    "The shaded region in the rate-utility function plots indicates the infeasible region - systems in this region are theoretically impossible."
   ]
  },
  {
   "cell_type": "code",
   "execution_count": null,
   "metadata": {
    "collapsed": false
   },
   "outputs": [],
   "source": [
    "#uncomment to store plots\n",
    "\n",
    "#using Gadfly\n",
    "\n",
    "#plt_performance = vstack(plt_perf_entropy, plt_perf_util)\n",
    "#draw(SVG(\"Figures/Tempsweep.svg\", 8.5cm, 11cm), plt_performance)\n",
    "#draw(SVG(\"Figures/RateUtility.svg\", 8.5cm, 7cm), plt_rateutility)"
   ]
  }
 ],
 "metadata": {
  "kernelspec": {
   "display_name": "Julia 0.3.10",
   "language": "julia",
   "name": "julia-0.3"
  },
  "language_info": {
   "name": "julia",
   "version": "0.3.10"
  }
 },
 "nbformat": 4,
 "nbformat_minor": 0
}
