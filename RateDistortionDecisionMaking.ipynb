{
 "cells": [
  {
   "cell_type": "code",
   "execution_count": 14,
   "metadata": {
    "collapsed": false
   },
   "outputs": [
    {
     "data": {
      "text/plain": [
       "(\n",
       "2x3 Array{Float64,2}:\n",
       " 1.0       0.707107  6.12323e-17\n",
       " 0.707107  1.0       0.707107   ,\n",
       "\n",
       "2x3 Array{Float64,2}:\n",
       " 0.572704  0.427296  0.0\n",
       " 0.427296  0.572704  0.0,\n",
       "\n",
       "[0.5,0.5,0.0])"
      ]
     },
     "execution_count": 14,
     "metadata": {},
     "output_type": "execute_result"
    }
   ],
   "source": [
    "#test call for the library\n",
    "\n",
    "using BlahutArimoto\n",
    "\n",
    "card_x = 3 #cardinality x\n",
    "card_ω = 2 #cardinality ω\n",
    "β = 1 #inverse temperature\n",
    "\n",
    "#set up uniform p(ω)\n",
    "pω = ones(card_ω)/card_ω \n",
    "\n",
    "#initialize p(x) uniformly\n",
    "px_init = ones(card_x)/card_x \n",
    "\n",
    "\n",
    "#cosine utility function (returns pre-computed utilities and maximum for each y)\n",
    "function CosineUtility(cardinality_x, cardinality_y)\n",
    "    #set up x ∈ (0,π/2)\n",
    "    xvec = linspace(0,pi/2,cardinality_x)\n",
    "    #set up y ∈ (0,π/4)\n",
    "    yvec = linspace(0,pi/4,cardinality_y)\n",
    "\n",
    "    #set up the utility function\n",
    "    #utility is cosine, ω acts as a phase shift\n",
    "    function U(x,ω)\n",
    "        cos(x-ω)\n",
    "    end\n",
    "\n",
    "    #pre-compute utilities, find maxima\n",
    "    U_pre = zeros(cardinality_y, cardinality_x)\n",
    "    Umax = zeros(cardinality_y)\n",
    "    for i in 1:cardinality_y\n",
    "        U_pre[i,:]=U(xvec,yvec[i])\n",
    "        Umax[i],ind = findmax(U_pre[i,:])\n",
    "    end\n",
    "    \n",
    "    return U_pre, Umax\n",
    "end\n",
    "\n",
    "\n",
    "#exemplary usage\n",
    "U_pre, Umax = CosineUtility(card_x, card_ω)\n",
    "pxgω,px = BAiterations(px_init,β,U_pre,Umax,pω,5000)\n",
    "\n",
    "U_pre,pxgω,px\n"
   ]
  },
  {
   "cell_type": "code",
   "execution_count": 11,
   "metadata": {
    "collapsed": false
   },
   "outputs": [],
   "source": [
    "workspace()"
   ]
  },
  {
   "cell_type": "code",
   "execution_count": null,
   "metadata": {
    "collapsed": true
   },
   "outputs": [],
   "source": []
  }
 ],
 "metadata": {
  "kernelspec": {
   "display_name": "Julia 0.3.8",
   "language": "julia",
   "name": "julia-0.3"
  },
  "language_info": {
   "name": "julia",
   "version": "0.3.8"
  }
 },
 "nbformat": 4,
 "nbformat_minor": 0
}
