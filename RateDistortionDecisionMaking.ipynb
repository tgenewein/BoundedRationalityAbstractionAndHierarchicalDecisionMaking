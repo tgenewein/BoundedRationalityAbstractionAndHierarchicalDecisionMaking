{
 "cells": [
  {
   "cell_type": "code",
   "execution_count": 24,
   "metadata": {
    "collapsed": false
   },
   "outputs": [
    {
     "data": {
      "text/plain": [
       "(\n",
       "2x3 Array{Float64,2}:\n",
       " 1.0       0.707107  6.12323e-17\n",
       " 0.707107  1.0       0.707107   ,\n",
       "\n",
       "2x3 Array{Float64,2}:\n",
       " 0.572736  0.427264  1.43283e-59\n",
       " 0.427328  0.572672  2.906e-59  ,\n",
       "\n",
       "[0.500032,0.499968,2.16941e-59])"
      ]
     },
     "execution_count": 24,
     "metadata": {},
     "output_type": "execute_result"
    }
   ],
   "source": [
    "#test call for the library\n",
    "\n",
    "using BlahutArimoto\n",
    "\n",
    "card_x = 3 #cardinality x\n",
    "card_ω = 2 #cardinality ω\n",
    "β = 1 #inverse temperature\n",
    "ε = 0.000001 #convergence critetion for BAiteration\n",
    "maxiter = 5000 #maximum number of BA iterations\n",
    "\n",
    "#set up uniform p(ω)\n",
    "pω = ones(card_ω)/card_ω \n",
    "\n",
    "#initialize p(x) uniformly\n",
    "px_init = ones(card_x)/card_x \n",
    "\n",
    "\n",
    "#cosine utility function (returns pre-computed utilities and maximum for each y)\n",
    "function cosineutility(cardinality_x, cardinality_y)\n",
    "    #set up x ∈ (0,π/2)\n",
    "    xvec = linspace(0,pi/2,cardinality_x)\n",
    "    #set up y ∈ (0,π/4)\n",
    "    yvec = linspace(0,pi/4,cardinality_y)\n",
    "\n",
    "    #set up the utility function\n",
    "    #utility is cosine, ω acts as a phase shift\n",
    "    function U(x,ω)\n",
    "        cos(x-ω)\n",
    "    end\n",
    "\n",
    "    #pre-compute utilities, find maxima\n",
    "    U_pre, Umax = setuputilityarrays(xvec,yvec,U)\n",
    "    \n",
    "    return U_pre, Umax\n",
    "end\n",
    "\n",
    "\n",
    "#exemplary usage\n",
    "U_pre, Umax = cosineutility(card_x, card_ω)\n",
    "pxgω,px = BAiterations(px_init,β,U_pre,Umax,pω,ε,maxiter)\n",
    "\n",
    "U_pre,pxgω,px\n"
   ]
  },
  {
   "cell_type": "code",
   "execution_count": 4,
   "metadata": {
    "collapsed": false
   },
   "outputs": [],
   "source": [
    "workspace()"
   ]
  },
  {
   "cell_type": "code",
   "execution_count": null,
   "metadata": {
    "collapsed": true
   },
   "outputs": [],
   "source": []
  }
 ],
 "metadata": {
  "kernelspec": {
   "display_name": "Julia 0.3.8",
   "language": "julia",
   "name": "julia-0.3"
  },
  "language_info": {
   "name": "julia",
   "version": "0.3.8"
  }
 },
 "nbformat": 4,
 "nbformat_minor": 0
}
