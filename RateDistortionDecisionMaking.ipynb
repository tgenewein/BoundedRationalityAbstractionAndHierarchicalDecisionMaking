{
 "cells": [
  {
   "cell_type": "code",
   "execution_count": 108,
   "metadata": {
    "collapsed": false
   },
   "outputs": [],
   "source": [
    "workspace()"
   ]
  },
  {
   "cell_type": "code",
   "execution_count": 110,
   "metadata": {
    "collapsed": false
   },
   "outputs": [
    {
     "data": {
      "text/plain": [
       "(\n",
       "3x2 Array{Float64,2}:\n",
       " 1.0          0.707107\n",
       " 0.707107     1.0     \n",
       " 6.12323e-17  0.707107,\n",
       "\n",
       "3x2 Array{Float64,2}:\n",
       " 0.572736     0.427328 \n",
       " 0.427264     0.572672 \n",
       " 1.43283e-59  2.906e-59,\n",
       "\n",
       "[0.500032,0.499968,2.16941e-59])"
      ]
     },
     "execution_count": 110,
     "metadata": {},
     "output_type": "execute_result"
    }
   ],
   "source": [
    "#test call for the library\n",
    "\n",
    "using BlahutArimoto\n",
    "\n",
    "card_x = 3 #cardinality x\n",
    "card_ϕ = 2 #cardinality ϕ\n",
    "β = 1 #inverse temperature\n",
    "ε = 0.000001 #convergence critetion for BAiterations\n",
    "maxiter = 5000 #maximum number of BA iterations\n",
    "\n",
    "#set up uniform p(ϕ)\n",
    "pϕ = ones(card_ϕ)/card_ϕ \n",
    "\n",
    "#initialize p(x) uniformly\n",
    "px_init = ones(card_x)/card_x \n",
    "\n",
    "\n",
    "#cosine utility function (returns pre-computed utilities and maximum for each y)\n",
    "function cosineutility(cardinality_x, cardinality_ϕ)\n",
    "    #set up x ∈ (0,π/2)\n",
    "    xvec = linspace(0,pi/2,cardinality_x)\n",
    "    #set up ϕ ∈ (0,π/4)\n",
    "    ϕvec = linspace(0,pi/4,cardinality_ϕ)\n",
    "\n",
    "    #set up the utility function\n",
    "    #utility is cosine, ϕ acts as a phase shift\n",
    "    function U(x,ϕ)\n",
    "        cos(x-ϕ)\n",
    "    end\n",
    "\n",
    "    #pre-compute utilities, find maxima\n",
    "    U_pre, Umax = setuputilityarrays(xvec,ϕvec,U)\n",
    "    \n",
    "    return U_pre, Umax, xvec, ϕvec\n",
    "end\n",
    "\n",
    "\n",
    "#exemplary usage\n",
    "U_pre, Umax, xvec, ϕvec = cosineutility(card_x, card_ϕ)\n",
    "pxgϕ,px = BAiterations(px_init,β,U_pre,Umax,pϕ,ε,maxiter)\n",
    "\n",
    "U_pre,pxgϕ,px\n"
   ]
  },
  {
   "cell_type": "code",
   "execution_count": 113,
   "metadata": {
    "collapsed": false
   },
   "outputs": [
    {
     "ename": "LoadError",
     "evalue": "Wrong number of arguments. Either provide string-representations for both a AND ω or for neither of them.\nwhile loading In[113], in expression starting on line 5",
     "output_type": "error",
     "traceback": [
      "Wrong number of arguments. Either provide string-representations for both a AND ω or for neither of them.\nwhile loading In[113], in expression starting on line 5",
      "",
      " in BAresult2DataFrame at D:\\Git Repos\\Projects\\GSOSpecialIssue\\Code\\VisualizationFunctions.jl:61"
     ]
    }
   ],
   "source": [
    "#visualize solution\n",
    "\n",
    "#transform result into dataframe\n",
    "#BAresult2DataFrame(px,pxgϕ,xvec,ϕvec,map(string,xvec),map(string,ϕvec))\n",
    "BAresult2DataFrame(px,pxgϕ,xvec,ϕvec,1)\n"
   ]
  },
  {
   "cell_type": "code",
   "execution_count": null,
   "metadata": {
    "collapsed": false
   },
   "outputs": [],
   "source": []
  }
 ],
 "metadata": {
  "kernelspec": {
   "display_name": "Julia 0.3.8",
   "language": "julia",
   "name": "julia-0.3"
  },
  "language_info": {
   "name": "julia",
   "version": "0.3.8"
  }
 },
 "nbformat": 4,
 "nbformat_minor": 0
}
